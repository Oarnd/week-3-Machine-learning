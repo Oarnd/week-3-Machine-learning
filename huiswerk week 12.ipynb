{
 "cells": [
  {
   "cell_type": "code",
   "execution_count": 63,
   "metadata": {},
   "outputs": [
    {
     "name": "stdout",
     "output_type": "stream",
     "text": [
      "Attrition  Gender\n",
      "No         Male      732\n",
      "           Female    501\n",
      "Yes        Male      150\n",
      "           Female     87\n",
      "dtype: int64\n"
     ]
    }
   ],
   "source": [
    "import seaborn as sns\n",
    "import sklearn as sk\n",
    "import pandas as pd\n",
    "import matplotlib.pyplot as plt\n",
    "from sklearn.model_selection import train_test_split\n",
    "df = pd.read_csv(\"employee-attrition.csv\")\n",
    "\n",
    "\n",
    "print(df[[\"Attrition\", \"Gender\"]].value_counts())"
   ]
  },
  {
   "cell_type": "code",
   "execution_count": 64,
   "metadata": {},
   "outputs": [
    {
     "name": "stderr",
     "output_type": "stream",
     "text": [
      "C:\\Users\\splin\\AppData\\Local\\Temp\\ipykernel_3044\\103413051.py:3: SettingWithCopyWarning: \n",
      "A value is trying to be set on a copy of a slice from a DataFrame.\n",
      "Try using .loc[row_indexer,col_indexer] = value instead\n",
      "\n",
      "See the caveats in the documentation: https://pandas.pydata.org/pandas-docs/stable/user_guide/indexing.html#returning-a-view-versus-a-copy\n",
      "  df1[\"Gender\"] = df1[\"Gender\"].replace([\"Female\", \"Male\"], [0,1]).astype(int)#Female = 0 , Male = 1\n",
      "C:\\Users\\splin\\AppData\\Local\\Temp\\ipykernel_3044\\103413051.py:4: SettingWithCopyWarning: \n",
      "A value is trying to be set on a copy of a slice from a DataFrame.\n",
      "Try using .loc[row_indexer,col_indexer] = value instead\n",
      "\n",
      "See the caveats in the documentation: https://pandas.pydata.org/pandas-docs/stable/user_guide/indexing.html#returning-a-view-versus-a-copy\n",
      "  df1[\"Attrition\"] = df1[\"Attrition\"].replace([\"Yes\", \"No\"], [1,0]).astype(int)# Yes = 1, No = 0\n"
     ]
    }
   ],
   "source": [
    "df1 = df[[\"Gender\", \"Age\", \"HourlyRate\", \"DistanceFromHome\", \"Attrition\", \"JobInvolvement\", \"YearsAtCompany\", \"PerformanceRating\", \"WorkLifeBalance\"]]\n",
    "\n",
    "df1[\"Gender\"] = df1[\"Gender\"].replace([\"Female\", \"Male\"], [0,1]).astype(int)#Female = 0 , Male = 1\n",
    "df1[\"Attrition\"] = df1[\"Attrition\"].replace([\"Yes\", \"No\"], [1,0]).astype(int)# Yes = 1, No = 0\n",
    "df1 = df1.dropna()"
   ]
  },
  {
   "cell_type": "markdown",
   "metadata": {},
   "source": [
    "De geselecteerde dingen lijken me te maken hebben met mensen die stoppen bij een bepaald bedrijf\n",
    "\n",
    "De data heb ik veranderd naar iets dat wel nummeriek is. \n",
    "\n",
    "Ik snap niet wat je bedoelt met exploratory data analysis"
   ]
  },
  {
   "cell_type": "markdown",
   "metadata": {},
   "source": [
    "hier komt nog uitleg over wat een KNN algoritme doet"
   ]
  },
  {
   "cell_type": "code",
   "execution_count": 65,
   "metadata": {},
   "outputs": [],
   "source": [
    "from sklearn.preprocessing import normalize\n",
    "\n",
    "X = df1[[\"Gender\", \"Age\", \"HourlyRate\", \"DistanceFromHome\", \"JobInvolvement\", \"YearsAtCompany\", \"PerformanceRating\", \"WorkLifeBalance\"]]\n",
    "X = normalize(X)\n",
    "Y = df1[\"Attrition\"]\n",
    "\n",
    "x_train, x_test, y_train, y_test = train_test_split(X, Y, test_size= 0.3, random_state= 1)\n"
   ]
  },
  {
   "cell_type": "code",
   "execution_count": 66,
   "metadata": {},
   "outputs": [
    {
     "data": {
      "text/plain": [
       "0.8117913832199547"
      ]
     },
     "execution_count": 66,
     "metadata": {},
     "output_type": "execute_result"
    }
   ],
   "source": [
    "from sklearn.neighbors import KNeighborsClassifier\n",
    "\n",
    "knn = KNeighborsClassifier(n_neighbors=7)\n",
    "knn = knn.fit(x_train, y_train)\n",
    "knn.score(x_test, y_test)"
   ]
  },
  {
   "cell_type": "code",
   "execution_count": 67,
   "metadata": {},
   "outputs": [
    {
     "data": {
      "text/plain": [
       "array([[355,   9],\n",
       "       [ 74,   3]], dtype=int64)"
      ]
     },
     "execution_count": 67,
     "metadata": {},
     "output_type": "execute_result"
    }
   ],
   "source": [
    "from sklearn.metrics import confusion_matrix\n",
    "\n",
    "y_test_pred = knn.predict(x_test)\n",
    "cm = confusion_matrix(y_test, y_test_pred)\n",
    "cm"
   ]
  },
  {
   "cell_type": "code",
   "execution_count": 68,
   "metadata": {},
   "outputs": [
    {
     "data": {
      "text/html": [
       "<div>\n",
       "<style scoped>\n",
       "    .dataframe tbody tr th:only-of-type {\n",
       "        vertical-align: middle;\n",
       "    }\n",
       "\n",
       "    .dataframe tbody tr th {\n",
       "        vertical-align: top;\n",
       "    }\n",
       "\n",
       "    .dataframe thead th {\n",
       "        text-align: right;\n",
       "    }\n",
       "</style>\n",
       "<table border=\"1\" class=\"dataframe\">\n",
       "  <thead>\n",
       "    <tr style=\"text-align: right;\">\n",
       "      <th></th>\n",
       "      <th>gebleven_p</th>\n",
       "      <th>weg_p</th>\n",
       "    </tr>\n",
       "  </thead>\n",
       "  <tbody>\n",
       "    <tr>\n",
       "      <th>Gebleven</th>\n",
       "      <td>355</td>\n",
       "      <td>9</td>\n",
       "    </tr>\n",
       "    <tr>\n",
       "      <th>weg</th>\n",
       "      <td>74</td>\n",
       "      <td>3</td>\n",
       "    </tr>\n",
       "  </tbody>\n",
       "</table>\n",
       "</div>"
      ],
      "text/plain": [
       "          gebleven_p  weg_p\n",
       "Gebleven         355      9\n",
       "weg               74      3"
      ]
     },
     "execution_count": 68,
     "metadata": {},
     "output_type": "execute_result"
    }
   ],
   "source": [
    "conf_matrix = pd.DataFrame(cm, index= [\"Gebleven\", \"weg\"], columns=[\"gebleven_p\", \"weg_p\"])\n",
    "conf_matrix"
   ]
  }
 ],
 "metadata": {
  "kernelspec": {
   "display_name": "Python 3.9.12 ('base')",
   "language": "python",
   "name": "python3"
  },
  "language_info": {
   "codemirror_mode": {
    "name": "ipython",
    "version": 3
   },
   "file_extension": ".py",
   "mimetype": "text/x-python",
   "name": "python",
   "nbconvert_exporter": "python",
   "pygments_lexer": "ipython3",
   "version": "3.9.12"
  },
  "orig_nbformat": 4,
  "vscode": {
   "interpreter": {
    "hash": "d42c3e771a889611f7bc4643cbd6db6314a05256ad28bd28498ddf34969a43a1"
   }
  }
 },
 "nbformat": 4,
 "nbformat_minor": 2
}
